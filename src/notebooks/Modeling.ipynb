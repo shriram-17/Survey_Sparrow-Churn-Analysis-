{
 "cells": [
  {
   "cell_type": "code",
   "execution_count": 12,
   "id": "f8045dde",
   "metadata": {},
   "outputs": [],
   "source": [
    "import pandas as pd\n",
    "import numpy as np\n",
    "from sklearn.model_selection import train_test_split, GridSearchCV\n",
    "from sklearn.ensemble import RandomForestClassifier, GradientBoostingClassifier\n",
    "from sklearn.linear_model import LogisticRegression\n",
    "from sklearn.svm import SVC\n",
    "from sklearn.neighbors import KNeighborsClassifier\n",
    "from xgboost import XGBClassifier\n",
    "from sklearn.metrics import accuracy_score, precision_score, recall_score, roc_auc_score\n",
    "import joblib"
   ]
  },
  {
   "cell_type": "code",
   "execution_count": 2,
   "id": "a8a51e5a",
   "metadata": {},
   "outputs": [],
   "source": [
    "df = pd.read_csv(\"../data/output_file.csv\")"
   ]
  },
  {
   "cell_type": "code",
   "execution_count": 3,
   "id": "8f301b79",
   "metadata": {},
   "outputs": [],
   "source": [
    "X = df.drop(columns=['churn'], errors='ignore')  # Features\n",
    "y = df['churn']  # Target\n",
    "\n",
    "# Split the dataset into training and testing sets\n",
    "X_train, X_test, y_train, y_test = train_test_split(X, y, test_size=0.2, random_state=42)"
   ]
  },
  {
   "cell_type": "code",
   "execution_count": 4,
   "id": "d8a3ab79",
   "metadata": {},
   "outputs": [],
   "source": [
    "# Define models and their hyperparameters for tuning\n",
    "models = {\n",
    "    'RandomForest': {\n",
    "        'model': RandomForestClassifier(random_state=42),\n",
    "        'params': {\n",
    "            'n_estimators': [50, 100],\n",
    "            'max_features': ['sqrt'],\n",
    "            'max_depth': [None, 10, 20],\n",
    "            'min_samples_split': [2, 5],\n",
    "            'min_samples_leaf': [1, 2]\n",
    "        }\n",
    "    },\n",
    "    'LogisticRegression': {\n",
    "        'model': LogisticRegression(max_iter=1000),\n",
    "        'params': {\n",
    "            'C': [0.1, 1.0, 10.0],\n",
    "            'solver': ['liblinear', 'saga']\n",
    "        }\n",
    "    },\n",
    "    'XGBoost': {\n",
    "        'model': XGBClassifier(use_label_encoder=False, eval_metric='logloss'),\n",
    "        'params': {\n",
    "            'n_estimators': [50, 100],\n",
    "            'learning_rate': [0.01, 0.1],\n",
    "            'max_depth': [3, 5]\n",
    "        }\n",
    "    },\n",
    "    'GradientBoosting': {\n",
    "        'model': GradientBoostingClassifier(),\n",
    "        'params': {\n",
    "            'n_estimators': [50, 100],\n",
    "            'learning_rate': [0.01, 0.1],\n",
    "            'max_depth': [3, 5]\n",
    "        }\n",
    "    },\n",
    "    'KNeighbors': {\n",
    "        'model': KNeighborsClassifier(),\n",
    "        'params': {\n",
    "            'n_neighbors': [3, 5, 10],\n",
    "            'weights': ['uniform', 'distance']\n",
    "        }\n",
    "    }\n",
    "}\n"
   ]
  },
  {
   "cell_type": "code",
   "execution_count": 5,
   "id": "29430c0f",
   "metadata": {},
   "outputs": [
    {
     "name": "stdout",
     "output_type": "stream",
     "text": [
      "Tuning RandomForest...\n",
      "Fitting 5 folds for each of 24 candidates, totalling 120 fits\n",
      "Tuning LogisticRegression...\n",
      "Fitting 5 folds for each of 6 candidates, totalling 30 fits\n",
      "Tuning XGBoost...\n",
      "Fitting 5 folds for each of 8 candidates, totalling 40 fits\n"
     ]
    },
    {
     "name": "stderr",
     "output_type": "stream",
     "text": [
      "C:\\Program Files\\Python311\\Lib\\site-packages\\xgboost\\core.py:158: UserWarning: [22:04:24] WARNING: C:\\buildkite-agent\\builds\\buildkite-windows-cpu-autoscaling-group-i-0015a694724fa8361-1\\xgboost\\xgboost-ci-windows\\src\\learner.cc:740: \n",
      "Parameters: { \"use_label_encoder\" } are not used.\n",
      "\n",
      "  warnings.warn(smsg, UserWarning)\n"
     ]
    },
    {
     "name": "stdout",
     "output_type": "stream",
     "text": [
      "Tuning GradientBoosting...\n",
      "Fitting 5 folds for each of 8 candidates, totalling 40 fits\n",
      "Tuning KNeighbors...\n",
      "Fitting 5 folds for each of 6 candidates, totalling 30 fits\n"
     ]
    }
   ],
   "source": [
    "# Function to perform GridSearchCV for hyperparameter tuning\n",
    "def tune_model(model_name, model_instance, param_grid):\n",
    "    grid_search = GridSearchCV(estimator=model_instance,\n",
    "                               param_grid=param_grid,\n",
    "                               scoring='accuracy',\n",
    "                               cv=5,\n",
    "                               verbose=1,\n",
    "                               n_jobs=-1)\n",
    "    grid_search.fit(X_train, y_train)\n",
    "    return grid_search\n",
    "\n",
    "# Dictionary to store best models and their scores\n",
    "best_models = {}\n",
    "\n",
    "for model_name, model_info in models.items():\n",
    "    print(f\"Tuning {model_name}...\")\n",
    "    best_model = tune_model(model_name, model_info['model'], model_info['params'])\n",
    "    best_models[model_name] = best_model\n"
   ]
  },
  {
   "cell_type": "code",
   "execution_count": 10,
   "id": "3f30125c",
   "metadata": {},
   "outputs": [
    {
     "name": "stdout",
     "output_type": "stream",
     "text": [
      "RandomForest Results:\n",
      "Best Parameters: {'max_depth': 20, 'max_features': 'sqrt', 'min_samples_leaf': 2, 'min_samples_split': 5, 'n_estimators': 100}\n",
      "Accuracy: 0.86\n",
      "Precision: 0.77\n",
      "Recall: 0.44\n",
      "AUC-ROC: 0.86\n",
      "\n",
      "LogisticRegression Results:\n",
      "Best Parameters: {'C': 0.1, 'solver': 'liblinear'}\n",
      "Accuracy: 0.81\n",
      "Precision: 0.59\n",
      "Recall: 0.17\n",
      "AUC-ROC: 0.76\n",
      "\n",
      "XGBoost Results:\n",
      "Best Parameters: {'learning_rate': 0.1, 'max_depth': 3, 'n_estimators': 100}\n",
      "Accuracy: 0.86\n",
      "Precision: 0.77\n",
      "Recall: 0.43\n",
      "AUC-ROC: 0.87\n",
      "\n",
      "GradientBoosting Results:\n",
      "Best Parameters: {'learning_rate': 0.1, 'max_depth': 5, 'n_estimators': 100}\n",
      "Accuracy: 0.86\n",
      "Precision: 0.74\n",
      "Recall: 0.47\n",
      "AUC-ROC: 0.87\n",
      "\n",
      "KNeighbors Results:\n",
      "Best Parameters: {'n_neighbors': 10, 'weights': 'uniform'}\n",
      "Accuracy: 0.80\n",
      "Precision: 0.20\n",
      "Recall: 0.00\n",
      "AUC-ROC: 0.51\n",
      "\n"
     ]
    }
   ],
   "source": [
    "# Evaluate the best models on the test set\n",
    "for model_name, best_model in best_models.items():\n",
    "    y_pred = best_model.predict(X_test)\n",
    "    \n",
    "    accuracy = accuracy_score(y_test, y_pred)\n",
    "    precision = precision_score(y_test, y_pred)\n",
    "    recall = recall_score(y_test, y_pred)\n",
    "    \n",
    "   # Assuming binary classification for AUC-ROC calculation \n",
    "    probas = best_model.predict_proba(X_test)[:, 1]\n",
    "    auc_roc = roc_auc_score(y_test, probas)\n",
    "\n",
    "    print(f\"{model_name} Results:\")\n",
    "    print(f\"Best Parameters: {best_model.best_params_}\")\n",
    "    print(f\"Accuracy: {accuracy:.2f}\")\n",
    "    print(f\"Precision: {precision:.2f}\")\n",
    "    print(f\"Recall: {recall:.2f}\")\n",
    "    print(f\"AUC-ROC: {auc_roc:.2f}\\n\")"
   ]
  },
  {
   "cell_type": "code",
   "execution_count": 13,
   "id": "3a43c584",
   "metadata": {},
   "outputs": [
    {
     "name": "stdout",
     "output_type": "stream",
     "text": [
      "Saved KNeighbors model to KNeighbors_best_model.joblib\n",
      "\n"
     ]
    }
   ],
   "source": [
    "model_filename = f\"{model_name}_best_model.joblib\"\n",
    "joblib.dump(best_model.best_estimator_, model_filename)\n",
    "print(f\"Saved {model_name} model to {model_filename}\\n\")"
   ]
  }
 ],
 "metadata": {
  "kernelspec": {
   "display_name": "Python 3 (ipykernel)",
   "language": "python",
   "name": "python3"
  },
  "language_info": {
   "codemirror_mode": {
    "name": "ipython",
    "version": 3
   },
   "file_extension": ".py",
   "mimetype": "text/x-python",
   "name": "python",
   "nbconvert_exporter": "python",
   "pygments_lexer": "ipython3",
   "version": "3.11.0"
  }
 },
 "nbformat": 4,
 "nbformat_minor": 5
}
